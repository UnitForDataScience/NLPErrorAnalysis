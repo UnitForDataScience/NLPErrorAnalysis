{
 "cells": [
  {
   "cell_type": "code",
   "execution_count": 135,
   "metadata": {
    "collapsed": false
   },
   "outputs": [],
   "source": [
    "from sklearn.feature_extraction.text import TfidfVectorizer\n",
    "import pandas as pd\n",
    "import math\n",
    "import os\n",
    "from os import listdir\n",
    "from os.path import join\n",
    "import numpy as np\n",
    "import nltk\n"
   ]
  },
  {
   "cell_type": "code",
   "execution_count": 138,
   "metadata": {
    "collapsed": true
   },
   "outputs": [],
   "source": [
    "removelist = ['the','of','and','to','in','sequoyah', 'that','for','number','requirements','identifies','actions','procedures','activities','work','determined','arkansas','their','enclosure','failed','required','related','analysis','been','reports','part','cause','also','than','part','ensure','bv','dated','whether','if','any','appropriate','npg','tva','pers','rhrsw','sv','wo','rhr','due','emergency','af','systems','ire','valve','verified','failure','identified','ar','4030','power','very','resulls','specifically','other','gov','used','level','jan','february','march','april','may','june', 'july', 'august', 'september', 'october', 'november','december','could', 'per', 'ferry', '296', 'ler', 'radiation', 'brunswick', 'ts', 'data', 'byron','event','zz', 'test', '05000346', 'action', 'pump', '6010', 'heat', 'dresden','accordance','pi','risk','fire','st', 'ip','ip2','ip3', 'limerick', 'mcguire', '6100', 'milestone', 'm3', 'response','conditions','05000220','scope','section','d5', 'sp', 'afw', 'prairie', 'lucie', 'seabrook', 'za', 'tk', 'summer', 'surry', '388', 'qa', 'evaluated', 'ipcriteria','asis','4021','determine','pg','u3','its','aip','stp','finding','testing','valley','nop','8700','issues','may','valley','title','low','into','cfr','entergy','following','be','licensee','documents','inspectors','inspection', 'unit','at','these','en','are','it','had','which','report','did','op','not', 'one', 'no', 'from', 'because','plant', 'reactor','nuclear','ms09','ms10','with','is','by','an','was','were','this','nrc','as','on','during','attachment','associated','have','room','beaver','findings','reviewed','revision','rev','corrective','significance','performed','review','verify','ir','sx','evaluation','condition','issue','service','safety','system','basis','area','mail','cap','324','sr','all','edg','nggc','very','its','performance','ano','or','cr']"
   ]
  },
  {
   "cell_type": "code",
   "execution_count": 139,
   "metadata": {
    "collapsed": false
   },
   "outputs": [],
   "source": [
    "path = 'C://..'\n",
    "plants = os.listdir(path)"
   ]
  },
  {
   "cell_type": "code",
   "execution_count": 140,
   "metadata": {
    "collapsed": false
   },
   "outputs": [],
   "source": [
    "import os\n",
    "from nltk import word_tokenize\n",
    "from sklearn.feature_extraction.text import TfidfVectorizer\n",
    "from nltk.corpus import stopwords\n",
    "\n",
    "plants = os.listdir(path)\n",
    "tfIDFdocs = []\n",
    "reports = os.listdir(path + \"/\")\n",
    "for report in reports:\n",
    "    content = open(path + \"/\" + report, 'r').read()\n",
    "    #print(content)\n",
    "    tfIDFdocs.append(content) \n",
    "tfidf_vectorizer = TfidfVectorizer(min_df=0.1,stop_words=removelist)"
   ]
  },
  {
   "cell_type": "code",
   "execution_count": 141,
   "metadata": {
    "collapsed": false
   },
   "outputs": [],
   "source": [
    "tfidf_matrix = tfidf_vectorizer.fit_transform(tfIDFdocs)\n",
    "feature_names = tfidf_vectorizer.get_feature_names()\n",
    "dense = tfidf_matrix.todense()\n",
    "denselist = dense.tolist()"
   ]
  },
  {
   "cell_type": "code",
   "execution_count": 144,
   "metadata": {
    "collapsed": false
   },
   "outputs": [],
   "source": [
    "df = pd.DataFrame(denselist, columns=feature_names, index=plants)"
   ]
  },
  {
   "cell_type": "code",
   "execution_count": 143,
   "metadata": {
    "collapsed": false
   },
   "outputs": [],
   "source": [
    "s=0\n",
    "for i in range(len(plants)):\n",
    "    df1 = df.loc[plants[s]]\n",
    "    largest = df1.nlargest(30)\n",
    "    with open(\"C://..\"+str(plants[s]),\"w\") as f:\n",
    "        f.write(str(largest))\n",
    "    s = s+1\n",
    "    "
   ]
  }
 ],
 "metadata": {
  "kernelspec": {
   "display_name": "Python 3",
   "language": "python",
   "name": "python3"
  },
  "language_info": {
   "codemirror_mode": {
    "name": "ipython",
    "version": 3
   },
   "file_extension": ".py",
   "mimetype": "text/x-python",
   "name": "python",
   "nbconvert_exporter": "python",
   "pygments_lexer": "ipython3",
   "version": "3.6.0"
  }
 },
 "nbformat": 4,
 "nbformat_minor": 2
}
